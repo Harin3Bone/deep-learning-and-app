{
 "cells": [
  {
   "cell_type": "markdown",
   "metadata": {},
   "source": [
    "# <span style=\"color: blue;\">ให้กรอกรหัสนิสิต และชื่อ-นามสกุลของสมาชิกในทีม</span>\n",
    "# <span style=\"color: blue;\">(ห้ามมีสมาชิกเกิน 2 คน)</span>\n",
    "## รหัสนิสิต ชื่อ-นามสกุล"
   ]
  },
  {
   "cell_type": "markdown",
   "metadata": {
    "id": "RXATbte1m4iv"
   },
   "source": [
    "## Image Classification: Comparing No Augmentation, Data Augmentation, and Pretrained Models\n",
    "\n",
    "This exercise investigates image classification on the CIFAR-100 dataset by comparing three different training strategies: a baseline model trained without any augmentation, a model trained with data augmentation techniques to improve generalization, and a model leveraging transfer learning with pretrained weights. The goal is to evaluate how each approach affects classification performance, focusing on accuracy, loss behavior, and robustness."
   ]
  },
  {
   "cell_type": "code",
   "execution_count": null,
   "metadata": {},
   "outputs": [],
   "source": [
    "import os\n",
    "\n",
    "# must come *before* any Tensorflow import\n",
    "os.environ['TF_DETERMINISTIC_OPS'] = '1'\n",
    "os.environ['CUDA_LAUNCH_BLOCKING'] = '1'"
   ]
  },
  {
   "cell_type": "code",
   "execution_count": null,
   "metadata": {
    "executionInfo": {
     "elapsed": 17100,
     "status": "ok",
     "timestamp": 1748246488854,
     "user": {
      "displayName": "Chakrit WATCHAROPAS",
      "userId": "10640034624063521652"
     },
     "user_tz": -420
    },
    "id": "I34b7NBUm4iw",
    "scrolled": false
   },
   "outputs": [],
   "source": [
    "from __future__ import print_function\n",
    "import keras\n",
    "from keras.datasets import cifar100\n",
    "from keras.models import Sequential\n",
    "from keras.layers import Dense, Dropout, Activation, Flatten\n",
    "from keras.layers import Conv2D, MaxPooling2D\n",
    "from tensorflow.keras.preprocessing.image import ImageDataGenerator\n",
    "\n",
    "import matplotlib.pyplot as plt\n",
    "%matplotlib inline"
   ]
  },
  {
   "cell_type": "code",
   "execution_count": null,
   "metadata": {
    "executionInfo": {
     "elapsed": 18540,
     "status": "aborted",
     "timestamp": 1748246490048,
     "user": {
      "displayName": "Chakrit WATCHAROPAS",
      "userId": "10640034624063521652"
     },
     "user_tz": -420
    },
    "id": "VAfbqF7Lm4iy"
   },
   "outputs": [],
   "source": [
    "import numpy as np\n",
    "import os, random, tensorflow as tf\n",
    "import requests, pickle\n",
    "\n",
    "def set_seed(seed_value=12345):\n",
    "    random.seed(seed_value)\n",
    "    np.random.seed(seed_value)\n",
    "    tf.random.set_seed(seed_value)\n",
    "    os.environ['PYTHONHASHSEED'] = str(seed_value)"
   ]
  },
  {
   "cell_type": "markdown",
   "metadata": {
    "id": "7eGW38dfm4ix"
   },
   "source": [
    "## Testing ImageDataGenerator"
   ]
  },
  {
   "cell_type": "code",
   "execution_count": null,
   "metadata": {
    "colab": {
     "base_uri": "https://localhost:8080/",
     "height": 332
    },
    "executionInfo": {
     "elapsed": 1113,
     "status": "error",
     "timestamp": 1748246489965,
     "user": {
      "displayName": "Chakrit WATCHAROPAS",
      "userId": "10640034624063521652"
     },
     "user_tz": -420
    },
    "id": "sRs7sik-m4ix",
    "outputId": "26e96f32-7007-4fc8-d364-a578423d94d5"
   },
   "outputs": [],
   "source": [
    "import gdown, requests\n",
    "from PIL import Image\n",
    "import numpy as np\n",
    "\n",
    "gdown.download(\"https://drive.google.com/uc?export=download&id=1xUwP3DVt690D2NpgDdoNaNE37uoa0a3V\", \n",
    "               \"coffee_mug.jpg\", quiet=True)\n",
    "image = Image.open(\"coffee_mug.jpg\")\n",
    "image = np.expand_dims(image, axis=0).astype('float32')/255\n",
    "plt.imshow(image[0])"
   ]
  },
  {
   "cell_type": "code",
   "execution_count": null,
   "metadata": {
    "executionInfo": {
     "elapsed": 1,
     "status": "aborted",
     "timestamp": 1748246490042,
     "user": {
      "displayName": "Chakrit WATCHAROPAS",
      "userId": "10640034624063521652"
     },
     "user_tz": -420
    },
    "id": "X6D-pwV3m4ix"
   },
   "outputs": [],
   "source": [
    "datagen = ImageDataGenerator(\n",
    "    rotation_range=0,  # randomly rotate images in the range (degrees, 0 to 180)\n",
    "    width_shift_range=0,  # randomly shift images horizontally (fraction of total width)\n",
    "    height_shift_range=0,  # randomly shift images vertically (fraction of total height)\n",
    "    horizontal_flip=False,  # randomly flip images\n",
    "    vertical_flip=False)  # randomly flip images\n",
    "\n",
    "image_generator = datagen.flow(image)"
   ]
  },
  {
   "cell_type": "code",
   "execution_count": null,
   "metadata": {
    "executionInfo": {
     "elapsed": 2,
     "status": "aborted",
     "timestamp": 1748246490044,
     "user": {
      "displayName": "Chakrit WATCHAROPAS",
      "userId": "10640034624063521652"
     },
     "user_tz": -420
    },
    "id": "Rk3YwiG1m4ix"
   },
   "outputs": [],
   "source": [
    "plt.imshow(next(image_generator)[0])"
   ]
  },
  {
   "cell_type": "markdown",
   "metadata": {},
   "source": [
    "## Loading Dataset"
   ]
  },
  {
   "cell_type": "code",
   "execution_count": null,
   "metadata": {
    "executionInfo": {
     "elapsed": 0,
     "status": "aborted",
     "timestamp": 1748246490046,
     "user": {
      "displayName": "Chakrit WATCHAROPAS",
      "userId": "10640034624063521652"
     },
     "user_tz": -420
    },
    "id": "vbNRhm81m4iy"
   },
   "outputs": [],
   "source": [
    "url = \"https://drive.google.com/uc?id=1KiNBzO6Rglrs96Ar92sVjYckAvm2A0Fi\"\n",
    "(_X, _y) = pickle.loads(requests.get(url).content)\n",
    "\n",
    "class_names = ['bottle', 'bowl', 'can', 'cup', 'plate']"
   ]
  },
  {
   "cell_type": "markdown",
   "metadata": {},
   "source": [
    "## <span style=\"color:orange\"> เกณฑ์การให้คะแนน (คะแนนเต็ม 100 คะแนน)</span>\n",
    "* ### <span style=\"color:darkcyan\"> หากสามารถทำตามข้อกำหนดได้ครบและสมบูรณ์ทุกข้อ พร้อมอธิบายและเปรียบเทียบประสิทธิภาพของโมเดลทั้งหมดได้อย่างชัดเจน ได้รับคะแนนเต็ม 100 คะแนน</span>\n",
    "* ### <span style=\"color:darkcyan\"> หากมีข้อบกพร่องน้อยหรืออธิบายได้ดีพอประมาณ จะได้รับ 70 คะแนน</span>\n",
    "* ### <span style=\"color:darkcyan\"> หากมีข้อบกพร่องหรือโค้ดทำงานไม่ถูกต้อง จะได้รับ 40 คะแนน</span>\n",
    "* ### <span style=\"color:darkcyan\"> หากมีข้อบกพร่องอย่างมาก โค้ดรันไม่ได้ หรือไม่ได้เขียนโค้ดส่งมา จะได้รับศูนย์คะแนน</span>\n",
    "* ### <span style=\"color:darkcyan\"> หากโจทย์ไม่ได้กำหนดให้ทำ </span><span style=\"color:red\">ห้ามใช้ Early Stopping, ห้ามใช้ Best Weights, ห้ามใช้ Data Augmentation และห้ามใช้โมเดล Pretrained ในการเทรนโมเดล</span>"
   ]
  },
  {
   "cell_type": "markdown",
   "metadata": {
    "id": "T8mA_xsam4iz"
   },
   "source": [
    "## <span style=\"color:green\"> 1. จากชุดข้อมูลที่เตรียมไว้ให้ซึ่งอยู่ในตัวแปร _X และ _y ให้แบ่งข้อมูลออกเป็นชุดข้อมูล train, val, และ test ด้วยอัตราส่วน 70:10:20 และให้ทุกชุดข้อมูลมีจำนวนข้อมูลของแต่ละคลาสเท่ากัน หลังจากที่แบ่งชุดข้อมูลเสร็จ ให้แสดงจำนวนข้อมูลของแต่ละคลาสในทุกชุดข้อมูล</span>"
   ]
  },
  {
   "cell_type": "code",
   "execution_count": null,
   "metadata": {},
   "outputs": [],
   "source": []
  },
  {
   "cell_type": "markdown",
   "metadata": {},
   "source": [
    "## <span style=\"color:green\"> 2. ในแต่ละชุดข้อมูล ให้แสดงภาพพร้อมชื่อคลาสออกมาเป็นจำนวน 12 ภาพ</span>"
   ]
  },
  {
   "cell_type": "code",
   "execution_count": null,
   "metadata": {},
   "outputs": [],
   "source": []
  },
  {
   "cell_type": "markdown",
   "metadata": {},
   "source": [
    "### Normalize and One-Hot Encode Datasets โดยปรับโค้ดข้างล่างให้ตรงกับตัวแปรที่ใช้"
   ]
  },
  {
   "cell_type": "code",
   "execution_count": null,
   "metadata": {},
   "outputs": [],
   "source": [
    "# n_classes = len(class_names)\n",
    "\n",
    "# X_train = X_train.astype('float32') / 255\n",
    "# X_val = X_val.astype('float32') / 255\n",
    "# X_test = X_test.astype('float32') / 255\n",
    "\n",
    "# y_train = keras.utils.to_categorical(y_train, n_classes)\n",
    "# y_val = keras.utils.to_categorical(y_val, n_classes)\n",
    "# y_test = keras.utils.to_categorical(y_test, n_classes)"
   ]
  },
  {
   "cell_type": "markdown",
   "metadata": {
    "id": "ZtOP4GG0m4iz"
   },
   "source": [
    "## <span style=\"color:green\"> 3. ให้สร้าง เทรน และประเมินผลโมเดล CNN โดยให้ตั้งชื่อตัวแปรโมเดลว่า model_1 ซึ่งในการเทรนโมเดลนี้ห้ามใช้ Data Augmentation</span>"
   ]
  },
  {
   "cell_type": "code",
   "execution_count": null,
   "metadata": {},
   "outputs": [],
   "source": []
  },
  {
   "cell_type": "markdown",
   "metadata": {},
   "source": [
    "## <span style=\"color:green\"> 4. (20 คะแนน) ให้นำโครงสร้างโมเดล model_1 มาสร้างโมเดลที่มีชื่อตัวแปรโมเดลว่า model_2 โดยห้ามปรับเปลี่ยนโครงสร้างโมเดล แต่ให้เทรนโมเดลโดยใช้ Data Augmentation และใช้จำนวน epoch เท่ากับโมเดลก่อนหน้า แล้วจึงประเมินผลโมเดล</span>"
   ]
  },
  {
   "cell_type": "code",
   "execution_count": null,
   "metadata": {},
   "outputs": [],
   "source": []
  },
  {
   "cell_type": "markdown",
   "metadata": {
    "collapsed": true,
    "id": "5Qi6PAAvm4i0"
   },
   "source": [
    "## <span style=\"color:green\"> 5. ให้เรียกใช้ฟังก์ชันเพื่อดาวน์โหลดโมเดล Pretrained และทำ fine-tuning เพื่อแสดงความเข้าใจในเรื่อง Transfer Learning โดยให้ตั้งชื่อตัวแปรโมเดลนี้ว่า model_3 และเทรนโมเดลเพิ่มด้วยการใช้ Data Augmentation และใช้จำนวน epoch ไม่เกิน 20% ของค่าที่ใช้ในการเทรน model_2</span>"
   ]
  },
  {
   "cell_type": "code",
   "execution_count": null,
   "metadata": {
    "executionInfo": {
     "elapsed": 18666,
     "status": "aborted",
     "timestamp": 1748246490176,
     "user": {
      "displayName": "Chakrit WATCHAROPAS",
      "userId": "10640034624063521652"
     },
     "user_tz": -420
    },
    "id": "4uwyjelvm4i0"
   },
   "outputs": [],
   "source": []
  }
 ],
 "metadata": {
  "colab": {
   "provenance": []
  },
  "kernelspec": {
   "display_name": "dl_env",
   "language": "python",
   "name": "python3"
  },
  "language_info": {
   "codemirror_mode": {
    "name": "ipython",
    "version": 3
   },
   "file_extension": ".py",
   "mimetype": "text/x-python",
   "name": "python",
   "nbconvert_exporter": "python",
   "pygments_lexer": "ipython3",
   "version": "3.10.18"
  }
 },
 "nbformat": 4,
 "nbformat_minor": 0
}
