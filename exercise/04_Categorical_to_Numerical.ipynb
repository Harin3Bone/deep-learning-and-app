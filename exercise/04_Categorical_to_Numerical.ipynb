{
 "cells": [
  {
   "cell_type": "markdown",
   "metadata": {
    "id": "vUZmAZ9iRLzC"
   },
   "source": [
    "## One-Hot Encoding"
   ]
  },
  {
   "cell_type": "code",
   "execution_count": null,
   "metadata": {
    "ExecuteTime": {
     "end_time": "2023-07-14T04:16:04.751385Z",
     "start_time": "2023-07-14T04:16:04.729646Z"
    },
    "id": "MQf8FjOkRLzH",
    "outputId": "28b6d055-7654-43a2-f22d-773c6d438e24"
   },
   "outputs": [],
   "source": [
    "import numpy as np\n",
    "from sklearn.preprocessing import OneHotEncoder\n",
    "\n",
    "ohe = OneHotEncoder()\n",
    "\n",
    "ohe.fit_transform(np.array(['Male', 'Female']).reshape(-1, 1)).toarray()"
   ]
  },
  {
   "cell_type": "code",
   "execution_count": null,
   "metadata": {
    "id": "eE3KwdX4RLzJ",
    "outputId": "94c3fd89-eff7-4d3e-ce5c-31bf4af4b801"
   },
   "outputs": [],
   "source": [
    "ohe.categories_"
   ]
  },
  {
   "cell_type": "code",
   "execution_count": null,
   "metadata": {
    "ExecuteTime": {
     "end_time": "2023-07-14T04:16:16.406040Z",
     "start_time": "2023-07-14T04:16:16.386525Z"
    },
    "id": "Y-QrdKppRLzK",
    "outputId": "f695147f-e2ad-46e1-879e-6c726e8fa0d2"
   },
   "outputs": [],
   "source": [
    "results = ohe.transform(np.array(['Female', 'Male', 'Male', 'Female']).reshape(-1, 1)).toarray()\n",
    "print(results)"
   ]
  },
  {
   "cell_type": "markdown",
   "metadata": {
    "id": "qZFcAAvYRLzL"
   },
   "source": [
    "## Label Encoding"
   ]
  },
  {
   "cell_type": "code",
   "execution_count": null,
   "metadata": {
    "ExecuteTime": {
     "end_time": "2023-07-14T04:15:28.691577Z",
     "start_time": "2023-07-14T04:15:28.677061Z"
    },
    "id": "Ad6BB_M8RLzL",
    "outputId": "081196e0-ae01-4c98-978a-740428c9eff3"
   },
   "outputs": [],
   "source": [
    "import numpy as np\n",
    "from sklearn.preprocessing import LabelEncoder\n",
    "\n",
    "le = LabelEncoder()\n",
    "\n",
    "le.fit(['Male', 'Female'])"
   ]
  },
  {
   "cell_type": "code",
   "execution_count": null,
   "metadata": {
    "ExecuteTime": {
     "end_time": "2023-07-14T04:15:29.108223Z",
     "start_time": "2023-07-14T04:15:29.088643Z"
    },
    "id": "xoYmK_SXRLzM",
    "outputId": "53e15e24-1bff-4daa-c789-414438c5ae92"
   },
   "outputs": [],
   "source": [
    "le.classes_"
   ]
  },
  {
   "cell_type": "code",
   "execution_count": null,
   "metadata": {
    "ExecuteTime": {
     "end_time": "2023-07-14T04:19:36.520158Z",
     "start_time": "2023-07-14T04:19:36.507096Z"
    },
    "id": "W23l5LE5RLzN",
    "outputId": "6df264d1-4970-4267-efd6-992001ff921a"
   },
   "outputs": [],
   "source": [
    "results = le.transform(np.array(['Female', 'Male', 'Male', 'Female']))\n",
    "print(results)"
   ]
  },
  {
   "cell_type": "code",
   "execution_count": null,
   "metadata": {
    "id": "COrwQmT3RLzN"
   },
   "outputs": [],
   "source": []
  }
 ],
 "metadata": {
  "colab": {
   "provenance": []
  },
  "kernelspec": {
   "display_name": "dl_wsl_364",
   "language": "python",
   "name": "dl_wsl_364"
  },
  "language_info": {
   "codemirror_mode": {
    "name": "ipython",
    "version": 3
   },
   "file_extension": ".py",
   "mimetype": "text/x-python",
   "name": "python",
   "nbconvert_exporter": "python",
   "pygments_lexer": "ipython3",
   "version": "3.11.13"
  }
 },
 "nbformat": 4,
 "nbformat_minor": 0
}
