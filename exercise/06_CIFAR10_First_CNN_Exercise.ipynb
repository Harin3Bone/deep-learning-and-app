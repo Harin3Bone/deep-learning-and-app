{
 "cells": [
  {
   "cell_type": "markdown",
   "metadata": {},
   "source": [
    "# <span style=\"color: blue;\">ให้กรอกรหัสนิสิต และชื่อ-นามสกุลของสมาชิกในทีม</span>\n",
    "# <span style=\"color: blue;\">(ห้ามมีสมาชิกเกิน 2 คน)</span>\n",
    "## รหัสนิสิต ชื่อ-นามสกุล\n",
    "<span style=\"color: green;\">6714450249 นายหรินทร์ ธนะนาม</span>"
   ]
  },
  {
   "cell_type": "markdown",
   "metadata": {},
   "source": [
    "## Building a CNN to classify images in the CIFAR-10 Dataset\n",
    "\n",
    "We will work with the CIFAR-10 Dataset.  This is a well-known dataset for image classification, which consists of 60000 32x32 color images in 10 classes, with 6000 images per class. There are 50000 training images and 10000 test images.\n",
    "\n",
    "The 10 classes are:\n",
    "\n",
    "<ol start=\"0\">\n",
    "<li> airplane\n",
    "<li>  automobile\n",
    "<li> bird\n",
    "<li>  cat\n",
    "<li> deer\n",
    "<li> dog\n",
    "<li>  frog\n",
    "<li>  horse\n",
    "<li>  ship\n",
    "<li>  truck\n",
    "</ol>\n",
    "\n",
    "For details about CIFAR-10 see:\n",
    "https://www.cs.toronto.edu/~kriz/cifar.html\n",
    "\n",
    "For a compilation of published performance results on CIFAR 10, see:\n",
    "http://rodrigob.github.io/are_we_there_yet/build/classification_datasets_results.html\n",
    "\n",
    "---\n",
    "\n",
    "### Building Convolutional Neural Nets\n",
    "\n",
    "In this exercise we will build and train our first convolutional neural networks.  In the first part, we walk through the different layers and how they are configured.  In the second part, you will build your own model, train it, and compare the performance."
   ]
  },
  {
   "cell_type": "code",
   "metadata": {
    "ExecuteTime": {
     "end_time": "2025-08-09T07:23:25.539506Z",
     "start_time": "2025-08-09T07:23:25.531504Z"
    }
   },
   "source": [
    "import os\n",
    "\n",
    "# must come *before* any Tensorflow import\n",
    "os.environ['TF_DETERMINISTIC_OPS'] = '1'\n",
    "os.environ['CUDA_LAUNCH_BLOCKING'] = '1'"
   ],
   "outputs": [],
   "execution_count": 1
  },
  {
   "cell_type": "code",
   "metadata": {
    "ExecuteTime": {
     "end_time": "2025-08-09T07:23:44.480063Z",
     "start_time": "2025-08-09T07:23:25.875778Z"
    }
   },
   "source": [
    "from __future__ import print_function\n",
    "import random, numpy as np\n",
    "import keras, tensorflow as tf\n",
    "\n",
    "from keras.datasets import cifar10\n",
    "from tensorflow.keras.preprocessing.image import ImageDataGenerator\n",
    "from keras.models import Sequential\n",
    "from keras.layers import Dense, Dropout, Activation, Flatten\n",
    "from keras.layers import Conv2D, MaxPooling2D\n",
    "from sklearn.metrics import classification_report\n",
    "from sklearn.metrics import confusion_matrix, ConfusionMatrixDisplay\n",
    "\n",
    "from matplotlib.ticker import MaxNLocator\n",
    "import matplotlib.pyplot as plt\n",
    "%matplotlib inline"
   ],
   "outputs": [],
   "execution_count": 2
  },
  {
   "cell_type": "code",
   "metadata": {
    "ExecuteTime": {
     "end_time": "2025-08-09T07:23:44.512145Z",
     "start_time": "2025-08-09T07:23:44.497021Z"
    }
   },
   "source": [
    "def set_seed(seed_value=12345):\n",
    "    random.seed(seed_value)\n",
    "    np.random.seed(seed_value)\n",
    "    tf.random.set_seed(seed_value)\n",
    "    os.environ['PYTHONHASHSEED'] = str(seed_value)\n",
    "\n",
    "tf.config.list_physical_devices('GPU')"
   ],
   "outputs": [
    {
     "data": {
      "text/plain": [
       "[]"
      ]
     },
     "execution_count": 3,
     "metadata": {},
     "output_type": "execute_result"
    }
   ],
   "execution_count": 3
  },
  {
   "metadata": {
    "ExecuteTime": {
     "end_time": "2025-08-09T07:53:15.468380Z",
     "start_time": "2025-08-09T07:53:15.445427Z"
    }
   },
   "cell_type": "code",
   "source": "tf.test.gpu_device_name()",
   "outputs": [
    {
     "data": {
      "text/plain": [
       "''"
      ]
     },
     "execution_count": 42,
     "metadata": {},
     "output_type": "execute_result"
    }
   ],
   "execution_count": 42
  },
  {
   "cell_type": "code",
   "metadata": {
    "ExecuteTime": {
     "end_time": "2025-08-09T07:23:44.574673Z",
     "start_time": "2025-08-09T07:23:44.561555Z"
    }
   },
   "source": [
    "class_names = ['airplane', 'automobile', 'bird', 'cat', 'deer', \n",
    "               'dog', 'frog', 'horse', 'ship', 'truck']"
   ],
   "outputs": [],
   "execution_count": 4
  },
  {
   "cell_type": "code",
   "metadata": {
    "ExecuteTime": {
     "end_time": "2025-08-09T07:23:46.542218Z",
     "start_time": "2025-08-09T07:23:44.591549Z"
    }
   },
   "source": [
    "# The data, shuffled and split between train and test sets:\n",
    "(_x_train, _y_train), (_x_test, _y_test) = cifar10.load_data()\n",
    "(x_train, y_train), (x_test, y_test) = (_x_train, _y_train), (_x_test, _y_test)\n",
    "\n",
    "print('x_train shape:', x_train.shape)\n",
    "print(x_train.shape[0], 'train samples')\n",
    "print(x_test.shape[0], 'test samples')"
   ],
   "outputs": [
    {
     "name": "stdout",
     "output_type": "stream",
     "text": [
      "x_train shape: (50000, 32, 32, 3)\n",
      "50000 train samples\n",
      "10000 test samples\n"
     ]
    }
   ],
   "execution_count": 5
  },
  {
   "cell_type": "code",
   "metadata": {
    "ExecuteTime": {
     "end_time": "2025-08-09T07:23:46.605221Z",
     "start_time": "2025-08-09T07:23:46.591217Z"
    }
   },
   "source": [
    "## Each image is a 32 x 32 x 3 numpy array\n",
    "x_train[444].shape, x_train[444].dtype "
   ],
   "outputs": [
    {
     "data": {
      "text/plain": [
       "((32, 32, 3), dtype('uint8'))"
      ]
     },
     "execution_count": 6,
     "metadata": {},
     "output_type": "execute_result"
    }
   ],
   "execution_count": 6
  },
  {
   "cell_type": "code",
   "metadata": {
    "ExecuteTime": {
     "end_time": "2025-08-09T07:23:46.873019Z",
     "start_time": "2025-08-09T07:23:46.653733Z"
    }
   },
   "source": [
    "## Let's look at one of the images\n",
    "\n",
    "image_no = 444\n",
    "print(y_train[image_no], class_names[y_train[image_no][0]])\n",
    "\n",
    "plt.figure(figsize=(5, 5), dpi=60)\n",
    "plt.imshow(x_train[image_no])\n",
    "plt.show()"
   ],
   "outputs": [
    {
     "name": "stdout",
     "output_type": "stream",
     "text": [
      "[9] truck\n"
     ]
    },
    {
     "data": {
      "text/plain": [
       "<Figure size 300x300 with 1 Axes>"
      ],
      "image/png": "[encoded data removed]"
     },
     "metadata": {},
     "output_type": "display_data"
    }
   ],
   "execution_count": 7
  },
  {
   "cell_type": "code",
   "metadata": {
    "ExecuteTime": {
     "end_time": "2025-08-09T07:23:46.937208Z",
     "start_time": "2025-08-09T07:23:46.923090Z"
    }
   },
   "source": [
    "num_classes = 10\n",
    "\n",
    "y_train = keras.utils.to_categorical(y_train, num_classes)\n",
    "y_test = keras.utils.to_categorical(y_test, num_classes)"
   ],
   "outputs": [],
   "execution_count": 8
  },
  {
   "cell_type": "code",
   "metadata": {
    "ExecuteTime": {
     "end_time": "2025-08-09T07:23:46.985195Z",
     "start_time": "2025-08-09T07:23:46.971092Z"
    }
   },
   "source": [
    "# now instead of classes described by an integer between 0-9 we have a vector with a 1 in the (Pythonic) 9th position\n",
    "y_train[444]"
   ],
   "outputs": [
    {
     "data": {
      "text/plain": [
       "array([0., 0., 0., 0., 0., 0., 0., 0., 0., 1.])"
      ]
     },
     "execution_count": 9,
     "metadata": {},
     "output_type": "execute_result"
    }
   ],
   "execution_count": 9
  },
  {
   "cell_type": "code",
   "metadata": {
    "ExecuteTime": {
     "end_time": "2025-08-09T07:23:47.316281Z",
     "start_time": "2025-08-09T07:23:47.035610Z"
    }
   },
   "source": [
    "# As before, let's make everything float and scale\n",
    "x_train = x_train.astype('float32')\n",
    "x_test = x_test.astype('float32')\n",
    "x_train /= 255\n",
    "x_test /= 255"
   ],
   "outputs": [],
   "execution_count": 10
  },
  {
   "cell_type": "markdown",
   "metadata": {},
   "source": [
    "## <span style=\"color:red\"> เพื่อป้องกันผลกระทบจากการสุ่ม (randomness) ให้ใช้ค่า seed เป็น 12345 โดยให้เรียกใช้ฟังก์ชัน set_seed(12345) ทุกครั้งก่อนที่จะสร้างโมเดล และให้กำหนดค่า seed ด้วยในการแบ่งข้อมูล </span>\n",
    "## <span style=\"color:red\"> นอกจากนี้ ห้ามใช้ Early Stopping หรือใช้ Best Weights ในการเทรนโมเดล </span>"
   ]
  },
  {
   "cell_type": "markdown",
   "metadata": {},
   "source": [
    "## <span style=\"color:blue\"> ส่วนการแบ่งข้อมูล </span>\n",
    "\n",
    "## <span style=\"color:green\"> 1. (20 คะแนน) ให้แบ่งชุดข้อมูล train ออกเป็น 2 ส่วนในอัตราส่วน 90:10 และข้อมูลทั้ง 2 ส่วนนี้ให้แต่ละคลาสมีจำนวนข้อมูลเท่ากัน โดยข้อมูลที่ถูกแบ่งให้เก็บอยู่ในชุดข้อมูลที่เป็น train และ val ตามลำดับ หลังจากที่แบ่งข้อมูลเสร็จ ให้แสดงจำนวนข้อมูลของแต่ละคลาสในชุดข้อมูล train และ val </span>"
   ]
  },
  {
   "metadata": {
    "ExecuteTime": {
     "end_time": "2025-08-09T07:23:47.379062Z",
     "start_time": "2025-08-09T07:23:47.365740Z"
    }
   },
   "cell_type": "code",
   "source": "seed_value = 12345",
   "outputs": [],
   "execution_count": 11
  },
  {
   "metadata": {
    "ExecuteTime": {
     "end_time": "2025-08-09T07:24:01.885340Z",
     "start_time": "2025-08-09T07:24:01.633792Z"
    }
   },
   "cell_type": "code",
   "source": [
    "# Split train data set into 2 part 90:10\n",
    "from sklearn.model_selection import train_test_split\n",
    "x_train_split, x_val_split, y_train_split, y_val_split = train_test_split(\n",
    "    x_train,\n",
    "    y_train,\n",
    "test_size=0.1,                              # 90% train, 10% validation\n",
    "    random_state=seed_value,                # Force same result every time\n",
    "    stratify=np.argmax(y_train, axis=1)     # Make sure every class have same ratio (Benefit for 1x1 dimension array not for matrix array)\n",
    ")"
   ],
   "outputs": [],
   "execution_count": 12
  },
  {
   "metadata": {
    "ExecuteTime": {
     "end_time": "2025-08-09T07:24:03.008440Z",
     "start_time": "2025-08-09T07:24:03.001440Z"
    }
   },
   "cell_type": "code",
   "source": [
    "print(x_train.shape[0], 'train samples')\n",
    "print(x_test.shape[0], 'test samples')\n",
    "print('--------------------------------')\n",
    "print('x_train size:', x_train_split.shape[0])\n",
    "print('x_test size:', x_val_split.shape[0])\n",
    "print('y_train size:', y_train_split.shape[0])\n",
    "print('y_train size:', y_val_split.shape[0])"
   ],
   "outputs": [
    {
     "name": "stdout",
     "output_type": "stream",
     "text": [
      "50000 train samples\n",
      "10000 test samples\n",
      "--------------------------------\n",
      "x_train size: 45000\n",
      "x_test size: 5000\n",
      "y_train size: 45000\n",
      "y_train size: 5000\n"
     ]
    }
   ],
   "execution_count": 13
  },
  {
   "metadata": {},
   "cell_type": "code",
   "outputs": [],
   "execution_count": null,
   "source": ""
  },
  {
   "metadata": {},
   "cell_type": "markdown",
   "source": [
    "## <span style=\"color: yellow;\">คำตอบ</span>\n",
    "จากชุดข้อมูล train ที่มีทั้งหมด 50,000 ตัวอย่าง เมื่อแบ่งข้อมูลให้ออกเป็น 2 ส่วนในอัตราส่วน 90:10\n",
    "หมายความว่าในชุดข้อมูล train จะต้องได้ 90% จากชุดข้อมูลเดิมคือ 45,000 และในชุดข้อมูล val จะต้องได้ 10% จากชุดข้อมูลเดิมคือ 5,000\n",
    "สามารถทำได้ด้วยการใช้คำสั่ง train_test_split\n",
    "\n",
    "```python\n",
    "x_train_split, x_val_split, y_train_split, y_val_split = train_test_split(\n",
    "    x_train,\n",
    "    y_train,\n",
    "    test_size=0.1,            # 90% train, 10% validation\n",
    "    random_state=seed_value,  # Force same result every time\n",
    "    stratify=y_train          # Make sure every class have same ratio\n",
    ")\n",
    "```\n",
    "**x_train** และ **y_train** คือ dataset ที่เป็น Input\n",
    "**test_size=0.1** หมายถึงให้ตัดแบ่งชุดข้อมูลเป็น test ไป 0.1 หรือก็คือ 10% จาก Input\n",
    "ดังนั้น ชุดข้อมูล train ที่จะได้คือ 90% ของ Input\n",
    "**random_state** ใส่เพื่อให้ได้ผลลัพธ์เหมือนกันทุกครั้ง ในที่นี้คือ 12345 (ตั้งใจใช้ค่าเดียวกันกับ seed_value)\n",
    "stratify=y_train เพื่อให้การแบ่งข้อมูยังมีสัดส่วนเท่าเดิม"
   ]
  },
  {
   "cell_type": "markdown",
   "metadata": {},
   "source": [
    "## <span style=\"color:blue\"> ส่วนการเทรนโมเดล </span>"
   ]
  },
  {
   "cell_type": "code",
   "metadata": {
    "ExecuteTime": {
     "end_time": "2025-08-09T07:24:09.788085Z",
     "start_time": "2025-08-09T07:24:09.654291Z"
    }
   },
   "source": [
    "set_seed(12345)\n",
    "\n",
    "# Let's build a CNN using Keras' Sequential capabilities\n",
    "model_1 = Sequential()\n",
    "\n",
    "## 5x5 convolution with 1x1 stride and 16 filters\n",
    "model_1.add(Conv2D(16, (5, 5), strides=(1, 1), padding='same',\n",
    "                   input_shape=x_train.shape[1:], activation='relu',\n",
    "                   name='conv_1'))\n",
    "\n",
    "## Another 5x5 convolution with 2x2 stride and 32 filters\n",
    "model_1.add(Conv2D(32, (5, 5), strides=(2, 2), padding='valid', \n",
    "                   activation='relu', name='conv_2'))\n",
    "\n",
    "## 2x2 max pooling reduces to 7 x 7 x 32\n",
    "model_1.add(MaxPooling2D(pool_size=(2, 2), name='pool_1'))\n",
    "\n",
    "## Flatten turns 7x7x32 into 1568x1\n",
    "model_1.add(Flatten(name='flatten_1'))\n",
    "model_1.add(Dense(64, activation='relu', name='dense_1'))\n",
    "model_1.add(Dense(num_classes, activation='softmax', name='dense_2'))\n",
    "\n",
    "model_1.summary()"
   ],
   "outputs": [
    {
     "name": "stderr",
     "output_type": "stream",
     "text": [
      "C:\\Users\\User\\.conda\\envs\\deep-learning-application\\lib\\site-packages\\keras\\src\\layers\\convolutional\\base_conv.py:113: UserWarning: Do not pass an `input_shape`/`input_dim` argument to a layer. When using Sequential models, prefer using an `Input(shape)` object as the first layer in the model instead.\n",
      "  super().__init__(activity_regularizer=activity_regularizer, **kwargs)\n"
     ]
    },
    {
     "data": {
      "text/plain": [
       "\u001B[1mModel: \"sequential\"\u001B[0m\n"
      ],
      "text/html": [
       "<pre style=\"white-space:pre;overflow-x:auto;line-height:normal;font-family:Menlo,'DejaVu Sans Mono',consolas,'Courier New',monospace\"><span style=\"font-weight: bold\">Model: \"sequential\"</span>\n",
       "</pre>\n"
      ]
     },
     "metadata": {},
     "output_type": "display_data"
    },
    {
     "data": {
      "text/plain": [
       "┏━━━━━━━━━━━━━━━━━━━━━━━━━━━━━━━━━┳━━━━━━━━━━━━━━━━━━━━━━━━┳━━━━━━━━━━━━━━━┓\n",
       "┃\u001B[1m \u001B[0m\u001B[1mLayer (type)                   \u001B[0m\u001B[1m \u001B[0m┃\u001B[1m \u001B[0m\u001B[1mOutput Shape          \u001B[0m\u001B[1m \u001B[0m┃\u001B[1m \u001B[0m\u001B[1m      Param #\u001B[0m\u001B[1m \u001B[0m┃\n",
       "┡━━━━━━━━━━━━━━━━━━━━━━━━━━━━━━━━━╇━━━━━━━━━━━━━━━━━━━━━━━━╇━━━━━━━━━━━━━━━┩\n",
       "│ conv_1 (\u001B[38;5;33mConv2D\u001B[0m)                 │ (\u001B[38;5;45mNone\u001B[0m, \u001B[38;5;34m32\u001B[0m, \u001B[38;5;34m32\u001B[0m, \u001B[38;5;34m16\u001B[0m)     │         \u001B[38;5;34m1,216\u001B[0m │\n",
       "├─────────────────────────────────┼────────────────────────┼───────────────┤\n",
       "│ conv_2 (\u001B[38;5;33mConv2D\u001B[0m)                 │ (\u001B[38;5;45mNone\u001B[0m, \u001B[38;5;34m14\u001B[0m, \u001B[38;5;34m14\u001B[0m, \u001B[38;5;34m32\u001B[0m)     │        \u001B[38;5;34m12,832\u001B[0m │\n",
       "├─────────────────────────────────┼────────────────────────┼───────────────┤\n",
       "│ pool_1 (\u001B[38;5;33mMaxPooling2D\u001B[0m)           │ (\u001B[38;5;45mNone\u001B[0m, \u001B[38;5;34m7\u001B[0m, \u001B[38;5;34m7\u001B[0m, \u001B[38;5;34m32\u001B[0m)       │             \u001B[38;5;34m0\u001B[0m │\n",
       "├─────────────────────────────────┼────────────────────────┼───────────────┤\n",
       "│ flatten_1 (\u001B[38;5;33mFlatten\u001B[0m)             │ (\u001B[38;5;45mNone\u001B[0m, \u001B[38;5;34m1568\u001B[0m)           │             \u001B[38;5;34m0\u001B[0m │\n",
       "├─────────────────────────────────┼────────────────────────┼───────────────┤\n",
       "│ dense_1 (\u001B[38;5;33mDense\u001B[0m)                 │ (\u001B[38;5;45mNone\u001B[0m, \u001B[38;5;34m64\u001B[0m)             │       \u001B[38;5;34m100,416\u001B[0m │\n",
       "├─────────────────────────────────┼────────────────────────┼───────────────┤\n",
       "│ dense_2 (\u001B[38;5;33mDense\u001B[0m)                 │ (\u001B[38;5;45mNone\u001B[0m, \u001B[38;5;34m10\u001B[0m)             │           \u001B[38;5;34m650\u001B[0m │\n",
       "└─────────────────────────────────┴────────────────────────┴───────────────┘\n"
      ],
      "text/html": [
       "<pre style=\"white-space:pre;overflow-x:auto;line-height:normal;font-family:Menlo,'DejaVu Sans Mono',consolas,'Courier New',monospace\">┏━━━━━━━━━━━━━━━━━━━━━━━━━━━━━━━━━┳━━━━━━━━━━━━━━━━━━━━━━━━┳━━━━━━━━━━━━━━━┓\n",
       "┃<span style=\"font-weight: bold\"> Layer (type)                    </span>┃<span style=\"font-weight: bold\"> Output Shape           </span>┃<span style=\"font-weight: bold\">       Param # </span>┃\n",
       "┡━━━━━━━━━━━━━━━━━━━━━━━━━━━━━━━━━╇━━━━━━━━━━━━━━━━━━━━━━━━╇━━━━━━━━━━━━━━━┩\n",
       "│ conv_1 (<span style=\"color: #0087ff; text-decoration-color: #0087ff\">Conv2D</span>)                 │ (<span style=\"color: #00d7ff; text-decoration-color: #00d7ff\">None</span>, <span style=\"color: #00af00; text-decoration-color: #00af00\">32</span>, <span style=\"color: #00af00; text-decoration-color: #00af00\">32</span>, <span style=\"color: #00af00; text-decoration-color: #00af00\">16</span>)     │         <span style=\"color: #00af00; text-decoration-color: #00af00\">1,216</span> │\n",
       "├─────────────────────────────────┼────────────────────────┼───────────────┤\n",
       "│ conv_2 (<span style=\"color: #0087ff; text-decoration-color: #0087ff\">Conv2D</span>)                 │ (<span style=\"color: #00d7ff; text-decoration-color: #00d7ff\">None</span>, <span style=\"color: #00af00; text-decoration-color: #00af00\">14</span>, <span style=\"color: #00af00; text-decoration-color: #00af00\">14</span>, <span style=\"color: #00af00; text-decoration-color: #00af00\">32</span>)     │        <span style=\"color: #00af00; text-decoration-color: #00af00\">12,832</span> │\n",
       "├─────────────────────────────────┼────────────────────────┼───────────────┤\n",
       "│ pool_1 (<span style=\"color: #0087ff; text-decoration-color: #0087ff\">MaxPooling2D</span>)           │ (<span style=\"color: #00d7ff; text-decoration-color: #00d7ff\">None</span>, <span style=\"color: #00af00; text-decoration-color: #00af00\">7</span>, <span style=\"color: #00af00; text-decoration-color: #00af00\">7</span>, <span style=\"color: #00af00; text-decoration-color: #00af00\">32</span>)       │             <span style=\"color: #00af00; text-decoration-color: #00af00\">0</span> │\n",
       "├─────────────────────────────────┼────────────────────────┼───────────────┤\n",
       "│ flatten_1 (<span style=\"color: #0087ff; text-decoration-color: #0087ff\">Flatten</span>)             │ (<span style=\"color: #00d7ff; text-decoration-color: #00d7ff\">None</span>, <span style=\"color: #00af00; text-decoration-color: #00af00\">1568</span>)           │             <span style=\"color: #00af00; text-decoration-color: #00af00\">0</span> │\n",
       "├─────────────────────────────────┼────────────────────────┼───────────────┤\n",
       "│ dense_1 (<span style=\"color: #0087ff; text-decoration-color: #0087ff\">Dense</span>)                 │ (<span style=\"color: #00d7ff; text-decoration-color: #00d7ff\">None</span>, <span style=\"color: #00af00; text-decoration-color: #00af00\">64</span>)             │       <span style=\"color: #00af00; text-decoration-color: #00af00\">100,416</span> │\n",
       "├─────────────────────────────────┼────────────────────────┼───────────────┤\n",
       "│ dense_2 (<span style=\"color: #0087ff; text-decoration-color: #0087ff\">Dense</span>)                 │ (<span style=\"color: #00d7ff; text-decoration-color: #00d7ff\">None</span>, <span style=\"color: #00af00; text-decoration-color: #00af00\">10</span>)             │           <span style=\"color: #00af00; text-decoration-color: #00af00\">650</span> │\n",
       "└─────────────────────────────────┴────────────────────────┴───────────────┘\n",
       "</pre>\n"
      ]
     },
     "metadata": {},
     "output_type": "display_data"
    },
    {
     "data": {
      "text/plain": [
       "\u001B[1m Total params: \u001B[0m\u001B[38;5;34m115,114\u001B[0m (449.66 KB)\n"
      ],
      "text/html": [
       "<pre style=\"white-space:pre;overflow-x:auto;line-height:normal;font-family:Menlo,'DejaVu Sans Mono',consolas,'Courier New',monospace\"><span style=\"font-weight: bold\"> Total params: </span><span style=\"color: #00af00; text-decoration-color: #00af00\">115,114</span> (449.66 KB)\n",
       "</pre>\n"
      ]
     },
     "metadata": {},
     "output_type": "display_data"
    },
    {
     "data": {
      "text/plain": [
       "\u001B[1m Trainable params: \u001B[0m\u001B[38;5;34m115,114\u001B[0m (449.66 KB)\n"
      ],
      "text/html": [
       "<pre style=\"white-space:pre;overflow-x:auto;line-height:normal;font-family:Menlo,'DejaVu Sans Mono',consolas,'Courier New',monospace\"><span style=\"font-weight: bold\"> Trainable params: </span><span style=\"color: #00af00; text-decoration-color: #00af00\">115,114</span> (449.66 KB)\n",
       "</pre>\n"
      ]
     },
     "metadata": {},
     "output_type": "display_data"
    },
    {
     "data": {
      "text/plain": [
       "\u001B[1m Non-trainable params: \u001B[0m\u001B[38;5;34m0\u001B[0m (0.00 B)\n"
      ],
      "text/html": [
       "<pre style=\"white-space:pre;overflow-x:auto;line-height:normal;font-family:Menlo,'DejaVu Sans Mono',consolas,'Courier New',monospace\"><span style=\"font-weight: bold\"> Non-trainable params: </span><span style=\"color: #00af00; text-decoration-color: #00af00\">0</span> (0.00 B)\n",
       "</pre>\n"
      ]
     },
     "metadata": {},
     "output_type": "display_data"
    }
   ],
   "execution_count": 14
  },
  {
   "cell_type": "markdown",
   "metadata": {},
   "source": [
    "## <span style=\"color:green\"> 2. (20 คะแนน) ให้ใช้ชุดข้อมูล train และ val เพื่อเทรนโมเดล model_1 ตามที่กำหนดโครงสร้างไว้ให้ด้านบน โดยให้ใช้จำนวน epoch ไม่น้อยกว่า 20 รอบ หลังจากเทรนโมเดลเสร็จ ให้แสดงกราฟ Loss และ Accuracy พร้อมแสดงค่า Accuracy ที่วัดได้จากชุดข้อมูล train และ val </span>"
   ]
  },
  {
   "metadata": {
    "ExecuteTime": {
     "end_time": "2025-08-09T07:24:13.692743Z",
     "start_time": "2025-08-09T07:24:13.671743Z"
    }
   },
   "cell_type": "code",
   "source": [
    "print(\"Number of classes: \", num_classes)\n",
    "print(\"Classes values: \", np.unique(y_train))"
   ],
   "outputs": [
    {
     "name": "stdout",
     "output_type": "stream",
     "text": [
      "Number of classes:  10\n",
      "Classes values:  [0. 1.]\n"
     ]
    }
   ],
   "execution_count": 15
  },
  {
   "cell_type": "code",
   "metadata": {
    "ExecuteTime": {
     "end_time": "2025-08-09T07:28:28.729952Z",
     "start_time": "2025-08-09T07:24:15.173079Z"
    }
   },
   "source": [
    "set_seed(12345)\n",
    "\n",
    "from tensorflow.keras.optimizers import Adam\n",
    "model_1.compile(optimizer=Adam(learning_rate=0.0001), loss=\"categorical_crossentropy\", metrics=[\"accuracy\"])\n",
    "run_hist_1 = model_1.fit(x_train_split, y_train_split, validation_data=(x_val_split, y_val_split), epochs=30, batch_size=32)"
   ],
   "outputs": [
    {
     "name": "stdout",
     "output_type": "stream",
     "text": [
      "Epoch 1/30\n",
      "\u001B[1m1407/1407\u001B[0m \u001B[32m━━━━━━━━━━━━━━━━━━━━\u001B[0m\u001B[37m\u001B[0m \u001B[1m9s\u001B[0m 5ms/step - accuracy: 0.2701 - loss: 2.0102 - val_accuracy: 0.4314 - val_loss: 1.6205\n",
      "Epoch 2/30\n",
      "\u001B[1m1407/1407\u001B[0m \u001B[32m━━━━━━━━━━━━━━━━━━━━\u001B[0m\u001B[37m\u001B[0m \u001B[1m8s\u001B[0m 5ms/step - accuracy: 0.4452 - loss: 1.5769 - val_accuracy: 0.4856 - val_loss: 1.4798\n",
      "Epoch 3/30\n",
      "\u001B[1m1407/1407\u001B[0m \u001B[32m━━━━━━━━━━━━━━━━━━━━\u001B[0m\u001B[37m\u001B[0m \u001B[1m8s\u001B[0m 6ms/step - accuracy: 0.4876 - loss: 1.4456 - val_accuracy: 0.5098 - val_loss: 1.3873\n",
      "Epoch 4/30\n",
      "\u001B[1m1407/1407\u001B[0m \u001B[32m━━━━━━━━━━━━━━━━━━━━\u001B[0m\u001B[37m\u001B[0m \u001B[1m8s\u001B[0m 6ms/step - accuracy: 0.5193 - loss: 1.3531 - val_accuracy: 0.5324 - val_loss: 1.3285\n",
      "Epoch 5/30\n",
      "\u001B[1m1407/1407\u001B[0m \u001B[32m━━━━━━━━━━━━━━━━━━━━\u001B[0m\u001B[37m\u001B[0m \u001B[1m8s\u001B[0m 6ms/step - accuracy: 0.5430 - loss: 1.2881 - val_accuracy: 0.5460 - val_loss: 1.2827\n",
      "Epoch 6/30\n",
      "\u001B[1m1407/1407\u001B[0m \u001B[32m━━━━━━━━━━━━━━━━━━━━\u001B[0m\u001B[37m\u001B[0m \u001B[1m8s\u001B[0m 5ms/step - accuracy: 0.5635 - loss: 1.2366 - val_accuracy: 0.5536 - val_loss: 1.2463\n",
      "Epoch 7/30\n",
      "\u001B[1m1407/1407\u001B[0m \u001B[32m━━━━━━━━━━━━━━━━━━━━\u001B[0m\u001B[37m\u001B[0m \u001B[1m8s\u001B[0m 5ms/step - accuracy: 0.5799 - loss: 1.1931 - val_accuracy: 0.5620 - val_loss: 1.2157\n",
      "Epoch 8/30\n",
      "\u001B[1m1407/1407\u001B[0m \u001B[32m━━━━━━━━━━━━━━━━━━━━\u001B[0m\u001B[37m\u001B[0m \u001B[1m16s\u001B[0m 11ms/step - accuracy: 0.5930 - loss: 1.1549 - val_accuracy: 0.5724 - val_loss: 1.1885\n",
      "Epoch 9/30\n",
      "\u001B[1m1407/1407\u001B[0m \u001B[32m━━━━━━━━━━━━━━━━━━━━\u001B[0m\u001B[37m\u001B[0m \u001B[1m13s\u001B[0m 9ms/step - accuracy: 0.6048 - loss: 1.1215 - val_accuracy: 0.5842 - val_loss: 1.1664\n",
      "Epoch 10/30\n",
      "\u001B[1m1407/1407\u001B[0m \u001B[32m━━━━━━━━━━━━━━━━━━━━\u001B[0m\u001B[37m\u001B[0m \u001B[1m8s\u001B[0m 6ms/step - accuracy: 0.6166 - loss: 1.0910 - val_accuracy: 0.5978 - val_loss: 1.1433\n",
      "Epoch 11/30\n",
      "\u001B[1m1407/1407\u001B[0m \u001B[32m━━━━━━━━━━━━━━━━━━━━\u001B[0m\u001B[37m\u001B[0m \u001B[1m8s\u001B[0m 6ms/step - accuracy: 0.6285 - loss: 1.0637 - val_accuracy: 0.6040 - val_loss: 1.1279\n",
      "Epoch 12/30\n",
      "\u001B[1m1407/1407\u001B[0m \u001B[32m━━━━━━━━━━━━━━━━━━━━\u001B[0m\u001B[37m\u001B[0m \u001B[1m7s\u001B[0m 5ms/step - accuracy: 0.6380 - loss: 1.0392 - val_accuracy: 0.6074 - val_loss: 1.1111\n",
      "Epoch 13/30\n",
      "\u001B[1m1407/1407\u001B[0m \u001B[32m━━━━━━━━━━━━━━━━━━━━\u001B[0m\u001B[37m\u001B[0m \u001B[1m8s\u001B[0m 5ms/step - accuracy: 0.6467 - loss: 1.0164 - val_accuracy: 0.6086 - val_loss: 1.0986\n",
      "Epoch 14/30\n",
      "\u001B[1m1407/1407\u001B[0m \u001B[32m━━━━━━━━━━━━━━━━━━━━\u001B[0m\u001B[37m\u001B[0m \u001B[1m8s\u001B[0m 6ms/step - accuracy: 0.6540 - loss: 0.9954 - val_accuracy: 0.6118 - val_loss: 1.0858\n",
      "Epoch 15/30\n",
      "\u001B[1m1407/1407\u001B[0m \u001B[32m━━━━━━━━━━━━━━━━━━━━\u001B[0m\u001B[37m\u001B[0m \u001B[1m7s\u001B[0m 5ms/step - accuracy: 0.6624 - loss: 0.9755 - val_accuracy: 0.6190 - val_loss: 1.0743\n",
      "Epoch 16/30\n",
      "\u001B[1m1407/1407\u001B[0m \u001B[32m━━━━━━━━━━━━━━━━━━━━\u001B[0m\u001B[37m\u001B[0m \u001B[1m7s\u001B[0m 5ms/step - accuracy: 0.6693 - loss: 0.9566 - val_accuracy: 0.6216 - val_loss: 1.0642\n",
      "Epoch 17/30\n",
      "\u001B[1m1407/1407\u001B[0m \u001B[32m━━━━━━━━━━━━━━━━━━━━\u001B[0m\u001B[37m\u001B[0m \u001B[1m7s\u001B[0m 5ms/step - accuracy: 0.6754 - loss: 0.9389 - val_accuracy: 0.6238 - val_loss: 1.0562\n",
      "Epoch 18/30\n",
      "\u001B[1m1407/1407\u001B[0m \u001B[32m━━━━━━━━━━━━━━━━━━━━\u001B[0m\u001B[37m\u001B[0m \u001B[1m7s\u001B[0m 5ms/step - accuracy: 0.6804 - loss: 0.9216 - val_accuracy: 0.6308 - val_loss: 1.0481\n",
      "Epoch 19/30\n",
      "\u001B[1m1407/1407\u001B[0m \u001B[32m━━━━━━━━━━━━━━━━━━━━\u001B[0m\u001B[37m\u001B[0m \u001B[1m9s\u001B[0m 6ms/step - accuracy: 0.6866 - loss: 0.9047 - val_accuracy: 0.6346 - val_loss: 1.0417\n",
      "Epoch 20/30\n",
      "\u001B[1m1407/1407\u001B[0m \u001B[32m━━━━━━━━━━━━━━━━━━━━\u001B[0m\u001B[37m\u001B[0m \u001B[1m9s\u001B[0m 6ms/step - accuracy: 0.6918 - loss: 0.8878 - val_accuracy: 0.6354 - val_loss: 1.0364\n",
      "Epoch 21/30\n",
      "\u001B[1m1407/1407\u001B[0m \u001B[32m━━━━━━━━━━━━━━━━━━━━\u001B[0m\u001B[37m\u001B[0m \u001B[1m16s\u001B[0m 11ms/step - accuracy: 0.6985 - loss: 0.8718 - val_accuracy: 0.6362 - val_loss: 1.0295\n",
      "Epoch 22/30\n",
      "\u001B[1m1407/1407\u001B[0m \u001B[32m━━━━━━━━━━━━━━━━━━━━\u001B[0m\u001B[37m\u001B[0m \u001B[1m8s\u001B[0m 6ms/step - accuracy: 0.7041 - loss: 0.8565 - val_accuracy: 0.6394 - val_loss: 1.0254\n",
      "Epoch 23/30\n",
      "\u001B[1m1407/1407\u001B[0m \u001B[32m━━━━━━━━━━━━━━━━━━━━\u001B[0m\u001B[37m\u001B[0m \u001B[1m7s\u001B[0m 5ms/step - accuracy: 0.7097 - loss: 0.8416 - val_accuracy: 0.6422 - val_loss: 1.0216\n",
      "Epoch 24/30\n",
      "\u001B[1m1407/1407\u001B[0m \u001B[32m━━━━━━━━━━━━━━━━━━━━\u001B[0m\u001B[37m\u001B[0m \u001B[1m7s\u001B[0m 5ms/step - accuracy: 0.7152 - loss: 0.8270 - val_accuracy: 0.6432 - val_loss: 1.0174\n",
      "Epoch 25/30\n",
      "\u001B[1m1407/1407\u001B[0m \u001B[32m━━━━━━━━━━━━━━━━━━━━\u001B[0m\u001B[37m\u001B[0m \u001B[1m7s\u001B[0m 5ms/step - accuracy: 0.7203 - loss: 0.8129 - val_accuracy: 0.6448 - val_loss: 1.0151\n",
      "Epoch 26/30\n",
      "\u001B[1m1407/1407\u001B[0m \u001B[32m━━━━━━━━━━━━━━━━━━━━\u001B[0m\u001B[37m\u001B[0m \u001B[1m7s\u001B[0m 5ms/step - accuracy: 0.7253 - loss: 0.7992 - val_accuracy: 0.6466 - val_loss: 1.0113\n",
      "Epoch 27/30\n",
      "\u001B[1m1407/1407\u001B[0m \u001B[32m━━━━━━━━━━━━━━━━━━━━\u001B[0m\u001B[37m\u001B[0m \u001B[1m7s\u001B[0m 5ms/step - accuracy: 0.7299 - loss: 0.7859 - val_accuracy: 0.6458 - val_loss: 1.0112\n",
      "Epoch 28/30\n",
      "\u001B[1m1407/1407\u001B[0m \u001B[32m━━━━━━━━━━━━━━━━━━━━\u001B[0m\u001B[37m\u001B[0m \u001B[1m7s\u001B[0m 5ms/step - accuracy: 0.7353 - loss: 0.7726 - val_accuracy: 0.6486 - val_loss: 1.0109\n",
      "Epoch 29/30\n",
      "\u001B[1m1407/1407\u001B[0m \u001B[32m━━━━━━━━━━━━━━━━━━━━\u001B[0m\u001B[37m\u001B[0m \u001B[1m7s\u001B[0m 5ms/step - accuracy: 0.7403 - loss: 0.7603 - val_accuracy: 0.6498 - val_loss: 1.0097\n",
      "Epoch 30/30\n",
      "\u001B[1m1407/1407\u001B[0m \u001B[32m━━━━━━━━━━━━━━━━━━━━\u001B[0m\u001B[37m\u001B[0m \u001B[1m7s\u001B[0m 5ms/step - accuracy: 0.7439 - loss: 0.7479 - val_accuracy: 0.6514 - val_loss: 1.0096\n"
     ]
    }
   ],
   "execution_count": 16
  },
  {
   "metadata": {
    "ExecuteTime": {
     "end_time": "2025-08-09T07:35:05.022293Z",
     "start_time": "2025-08-09T07:35:04.888714Z"
    }
   },
   "cell_type": "code",
   "source": [
    "plt.close('all')\n",
    "fig, ax = plt.subplots()\n",
    "ax.plot(run_hist_1.history[\"loss\"],'r', marker='.', label=\"Train\")\n",
    "ax.plot(run_hist_1.history[\"val_loss\"],'b', marker='.', label=\"Validation\")\n",
    "ax.legend()\n",
    "plt.title('Loss')\n",
    "plt.xlabel('Epoch')\n",
    "plt.ylabel('Loss')\n",
    "plt.show()"
   ],
   "outputs": [
    {
     "data": {
      "text/plain": [
       "<Figure size 640x480 with 1 Axes>"
      ],
      "image/png": "[encoded data removed]"
     },
     "metadata": {},
     "output_type": "display_data"
    }
   ],
   "execution_count": 17
  },
  {
   "cell_type": "code",
   "metadata": {
    "ExecuteTime": {
     "end_time": "2025-08-09T07:35:06.885542Z",
     "start_time": "2025-08-09T07:35:06.750814Z"
    }
   },
   "source": [
    "plt.close('all')\n",
    "fig, ax = plt.subplots()\n",
    "ax.plot(run_hist_1.history[\"accuracy\"],'r', marker='.', label=\"Train\")\n",
    "ax.plot(run_hist_1.history[\"val_accuracy\"],'b', marker='.', label=\"Validation\")\n",
    "ax.legend()\n",
    "plt.title('Accuracy')\n",
    "plt.xlabel('Epoch')\n",
    "plt.ylabel('Accuracy')\n",
    "plt.show()"
   ],
   "outputs": [
    {
     "data": {
      "text/plain": [
       "<Figure size 640x480 with 1 Axes>"
      ],
      "image/png": "[encoded data removed]"
     },
     "metadata": {},
     "output_type": "display_data"
    }
   ],
   "execution_count": 18
  },
  {
   "metadata": {
    "ExecuteTime": {
     "end_time": "2025-08-09T07:41:07.942150Z",
     "start_time": "2025-08-09T07:41:03.360797Z"
    }
   },
   "cell_type": "code",
   "source": [
    "loss_train, accuracy_train = model_1.evaluate(x_train_split, y_train_split)\n",
    "loss_val, accuracy_val = model_1.evaluate(x_val_split, y_val_split)"
   ],
   "outputs": [
    {
     "name": "stdout",
     "output_type": "stream",
     "text": [
      "\u001B[1m1407/1407\u001B[0m \u001B[32m━━━━━━━━━━━━━━━━━━━━\u001B[0m\u001B[37m\u001B[0m \u001B[1m4s\u001B[0m 2ms/step - accuracy: 0.7413 - loss: 0.7515\n",
      "\u001B[1m157/157\u001B[0m \u001B[32m━━━━━━━━━━━━━━━━━━━━\u001B[0m\u001B[37m\u001B[0m \u001B[1m1s\u001B[0m 3ms/step - accuracy: 0.6642 - loss: 0.9941\n"
     ]
    }
   ],
   "execution_count": 28
  },
  {
   "metadata": {
    "ExecuteTime": {
     "end_time": "2025-08-09T07:42:43.690434Z",
     "start_time": "2025-08-09T07:42:43.675918Z"
    }
   },
   "cell_type": "code",
   "source": [
    "print('Training Accuracy: {:.4f}'.format(accuracy_train))\n",
    "print('Training Loss: {:.4f}'.format(loss_train))\n",
    "print('Validation Accuracy: {:.4f}'.format(accuracy_val))\n",
    "print('Validation Loss: {:.4f}'.format(loss_val))"
   ],
   "outputs": [
    {
     "name": "stdout",
     "output_type": "stream",
     "text": [
      "Training Accuracy: 0.7399\n",
      "Training Loss: 0.7487\n",
      "Validation Accuracy: 0.6514\n",
      "Validation Loss: 1.0096\n"
     ]
    }
   ],
   "execution_count": 30
  },
  {
   "metadata": {},
   "cell_type": "markdown",
   "source": [
    "## <span style=\"color: yellow;\">คำตอบ</span>\n",
    "ก่อนที่เราจะทำการ Train Model จำเป็นที่จะต้องตั้งค่าวิธีการเรียนรู้ก่อน จึงจำเป็นที่จะต้องใช้คำสั่ง `compile()` ด้วยคำสั่งด้านล่างนี้\n",
    "```python\n",
    "model_1.compile(optimizer=Adam(learning_rate=0.0001), loss=\"categorical_crossentropy\", metrics=[\"accuracy\"])\n",
    "```\n",
    "\n",
    "- `optimizer` คือ Algorithm วิธีการเรียนรู้ของ Model ในที่นี้เลือกใช้ Adam เนื่องจากว่าเป็นที่นิยมในการหยิบมาใช้ทำกับงานประเภทรูปภาพ\n",
    "- `loss` คือ จุดที่กำหนด Loss Function ที่จะไว้ใช้ในการประเมินผลว่า Model ทำงานได้ดีแค่ไหน โดยติจะมี `binary_crossentropy`,`categorical_crossentropy`ซึ่งในที่นี้เลือกใช้ `categorical_crossentropy` เนื่องจากว่าเป็นการจำแนกประเภทที่มีมากกว่า 2 Class\n",
    "\n",
    "จากนั้นจึงทำการใช้คำสั่ง `fit()` เพื่อทำการ Train Model โดยใช้ข้อมูลที่แบ่งไว้เป็น train และ val ดังนี้\n",
    "```python\n",
    "run_hist_1 = model_1.fit(x_train_split, y_train_split, validation_data=(x_val_split, y_val_split), epochs=30, batch_size=32)\n",
    "```\n",
    "ผลลัพธ์ที่ได้จากคำสั่งจะเป็นข้อมูลที่บอกว่า Model ทำงานได้ดีระดับไหน สำหรับ Model นี้จะได้ผลว่า\n",
    "| #          | Loss   | Accuracy |\n",
    "|------------|--------|----------|\n",
    "| Training   | 0.7637 | 0.7370   |\n",
    "| Validation | 1.0333 | 0.6532   |"
   ]
  },
  {
   "cell_type": "markdown",
   "metadata": {},
   "source": [
    "## <span style=\"color:green\"> 3. (30 คะแนน) ให้แสดงตารางภาพ Confusion Matrix และ Classification Report (ดังตัวอย่างในรูป) จากผลการทำนายของโมเดลด้วยข้อมูล test </span>\n",
    "![Classification Report](https://drive.google.com/thumbnail?id=1f6Hh-LNsj7mWdNsyT3LRPxAcy73Oa6c_&sz=h360)"
   ]
  },
  {
   "cell_type": "markdown",
   "metadata": {},
   "source": [
    "$\n",
    "\\begin{align}\n",
    "Accuracy &= \\frac{TP + TN}{TP + TN + FP + FN} \\\\\n",
    "Precision &= \\frac{TP}{TP + FP} \\\\\n",
    "Recall &= \\frac{TP}{TP + FN} \\\\\n",
    "F1-Score &= \\frac{2}{\\frac{1}{Precision} + \\frac{1}{Recall}} = 2 \\cdot \\frac{Precision \\cdot Recall}{Precision + Recall}\n",
    "\\end{align}\n",
    "$\n"
   ]
  },
  {
   "cell_type": "markdown",
   "metadata": {},
   "source": [
    "$\n",
    "\\begin{align}\n",
    "&\\text{where TP: True Positives, TN: True Negatives, FP: False Positives, and FN: False Negatives}\n",
    "\\end{align}\n",
    "$"
   ]
  },
  {
   "cell_type": "code",
   "metadata": {
    "ExecuteTime": {
     "end_time": "2025-08-09T07:43:08.692211Z",
     "start_time": "2025-08-09T07:43:07.326389Z"
    }
   },
   "source": [
    "# Used sklern to generate classification report and confusion matrix\n",
    "plt.close('all')\n",
    "y_pred = model_1.predict(x_test)\n",
    "y_pred_classes = np.argmax(y_pred, axis=1)\n",
    "y_true = np.argmax(y_test, axis=1)\n",
    "print(classification_report(y_true, y_pred_classes, target_names=class_names))\n",
    "cm = confusion_matrix(y_true, y_pred_classes)\n",
    "disp = ConfusionMatrixDisplay(confusion_matrix=cm, display_labels=class_names)\n",
    "disp.plot(cmap=plt.cm.Blues, values_format='d')\n",
    "plt.title('Confusion Matrix')\n",
    "plt.show()"
   ],
   "outputs": [
    {
     "name": "stdout",
     "output_type": "stream",
     "text": [
      "\u001B[1m313/313\u001B[0m \u001B[32m━━━━━━━━━━━━━━━━━━━━\u001B[0m\u001B[37m\u001B[0m \u001B[1m1s\u001B[0m 2ms/step\n",
      "              precision    recall  f1-score   support\n",
      "\n",
      "    airplane       0.71      0.68      0.69      1000\n",
      "  automobile       0.76      0.74      0.75      1000\n",
      "        bird       0.48      0.64      0.54      1000\n",
      "         cat       0.49      0.49      0.49      1000\n",
      "        deer       0.70      0.44      0.54      1000\n",
      "         dog       0.57      0.54      0.55      1000\n",
      "        frog       0.75      0.70      0.73      1000\n",
      "       horse       0.73      0.71      0.72      1000\n",
      "        ship       0.75      0.80      0.77      1000\n",
      "       truck       0.67      0.77      0.71      1000\n",
      "\n",
      "    accuracy                           0.65     10000\n",
      "   macro avg       0.66      0.65      0.65     10000\n",
      "weighted avg       0.66      0.65      0.65     10000\n",
      "\n"
     ]
    },
    {
     "data": {
      "text/plain": [
       "<Figure size 640x480 with 2 Axes>"
      ],
      "image/png": "[encoded data removed]"
     },
     "metadata": {},
     "output_type": "display_data"
    }
   ],
   "execution_count": 31
  },
  {
   "cell_type": "markdown",
   "metadata": {},
   "source": [
    "## <span style=\"color:green\"> 4. (30 คะแนน) ให้สร้างโมเดลใหม่ที่มีโครงสร้างซับซ้อนมากขึ้น โดยสามารถใช้รูปแบบโครงสร้างดังนี้ </span>\n",
    "\n",
    "~~~python\n",
    "Conv -> Conv -> MaxPool -> Conv -> Conv -> MaxPool -> (Flatten) -> Dense -> Final Classifier\n",
    "(ให้ใช้ stride เป็น 1 สำหรับทุกเลเยอร์ convolutional)\n",
    "~~~\n",
    "\n",
    "## <span style=\"color:green\"> และให้เทรนโมเดลใหม่เพื่อให้ได้ accuracy ที่ดีขึ้นจากชุดข้อมูล test ซึ่งในการเทรนนี้ ให้ใช้จำนวน epoch ไม่น้อยกว่า 20 รอบ โดยหลังจากเทรนโมเดลเสร็จ ให้แสดง </span>\n",
    "### * <span style=\"color:green\"> กราฟ Loss และ Accuracy พร้อมแสดงค่า Accuracy ที่วัดได้จากชุดข้อมูล train และ val </span>\n",
    "### * <span style=\"color:green\"> ตารางภาพ Confusion Matrix และ Classification Report จากผลการทำนายของโมเดลด้วยข้อมูล test </span>\n",
    "### * <span style=\"color:green\"> ภาพที่โมเดลใหม่ทำนายผิดของคลาสที่มี f1-score สูงสุดมาอย่างน้อย 3 ภาพ โดยแสดงภาพให้ปรากฏ แสดงข้อความว่าภาพนั้นเป็นภาพของคลาสอะไร และโมเดลทำนายผิดเป็นคลาสอะไร </span>"
   ]
  },
  {
   "cell_type": "code",
   "metadata": {
    "ExecuteTime": {
     "end_time": "2025-08-09T07:43:45.058700Z",
     "start_time": "2025-08-09T07:43:44.928183Z"
    }
   },
   "source": [
    "# Use Accuracy from train from this model vs previous model\n",
    "set_seed(12345)\n",
    "model_2 = Sequential()\n",
    "\n",
    "model_2.add(Conv2D(16, (5, 5), strides=(1, 1), padding='same',\n",
    "                   input_shape=x_train.shape[1:], activation='relu', name='conv_1'))\n",
    "model_2.add(Conv2D(32, (5, 5), strides=(1, 1), padding='same', activation='relu', name='conv_2'))\n",
    "model_2.add(MaxPooling2D(pool_size=(2, 2), name='pool_1'))\n",
    "\n",
    "model_2.add(Conv2D(64, (5, 5), strides=(1, 1), padding='same' , activation='relu', name='conv_3'))\n",
    "model_2.add(Conv2D(128, (5, 5), strides=(1, 1), padding='same', activation='relu', name='conv_4'))\n",
    "model_2.add(MaxPooling2D(pool_size=(2, 2), name='pool_2'))\n",
    "\n",
    "## Flatten turns 7x7x32 into 1568x1\n",
    "model_2.add(Flatten(name='flatten_1'))\n",
    "model_2.add(Dense(64, activation='relu', name='dense_1'))\n",
    "model_2.add(Dense(num_classes, activation='softmax', name='output'))\n",
    "\n",
    "model_2.summary()"
   ],
   "outputs": [
    {
     "data": {
      "text/plain": [
       "\u001B[1mModel: \"sequential_2\"\u001B[0m\n"
      ],
      "text/html": [
       "<pre style=\"white-space:pre;overflow-x:auto;line-height:normal;font-family:Menlo,'DejaVu Sans Mono',consolas,'Courier New',monospace\"><span style=\"font-weight: bold\">Model: \"sequential_2\"</span>\n",
       "</pre>\n"
      ]
     },
     "metadata": {},
     "output_type": "display_data"
    },
    {
     "data": {
      "text/plain": [
       "┏━━━━━━━━━━━━━━━━━━━━━━━━━━━━━━━━━┳━━━━━━━━━━━━━━━━━━━━━━━━┳━━━━━━━━━━━━━━━┓\n",
       "┃\u001B[1m \u001B[0m\u001B[1mLayer (type)                   \u001B[0m\u001B[1m \u001B[0m┃\u001B[1m \u001B[0m\u001B[1mOutput Shape          \u001B[0m\u001B[1m \u001B[0m┃\u001B[1m \u001B[0m\u001B[1m      Param #\u001B[0m\u001B[1m \u001B[0m┃\n",
       "┡━━━━━━━━━━━━━━━━━━━━━━━━━━━━━━━━━╇━━━━━━━━━━━━━━━━━━━━━━━━╇━━━━━━━━━━━━━━━┩\n",
       "│ conv_1 (\u001B[38;5;33mConv2D\u001B[0m)                 │ (\u001B[38;5;45mNone\u001B[0m, \u001B[38;5;34m32\u001B[0m, \u001B[38;5;34m32\u001B[0m, \u001B[38;5;34m16\u001B[0m)     │         \u001B[38;5;34m1,216\u001B[0m │\n",
       "├─────────────────────────────────┼────────────────────────┼───────────────┤\n",
       "│ conv_2 (\u001B[38;5;33mConv2D\u001B[0m)                 │ (\u001B[38;5;45mNone\u001B[0m, \u001B[38;5;34m32\u001B[0m, \u001B[38;5;34m32\u001B[0m, \u001B[38;5;34m32\u001B[0m)     │        \u001B[38;5;34m12,832\u001B[0m │\n",
       "├─────────────────────────────────┼────────────────────────┼───────────────┤\n",
       "│ pool_1 (\u001B[38;5;33mMaxPooling2D\u001B[0m)           │ (\u001B[38;5;45mNone\u001B[0m, \u001B[38;5;34m16\u001B[0m, \u001B[38;5;34m16\u001B[0m, \u001B[38;5;34m32\u001B[0m)     │             \u001B[38;5;34m0\u001B[0m │\n",
       "├─────────────────────────────────┼────────────────────────┼───────────────┤\n",
       "│ conv_3 (\u001B[38;5;33mConv2D\u001B[0m)                 │ (\u001B[38;5;45mNone\u001B[0m, \u001B[38;5;34m16\u001B[0m, \u001B[38;5;34m16\u001B[0m, \u001B[38;5;34m64\u001B[0m)     │        \u001B[38;5;34m51,264\u001B[0m │\n",
       "├─────────────────────────────────┼────────────────────────┼───────────────┤\n",
       "│ conv_4 (\u001B[38;5;33mConv2D\u001B[0m)                 │ (\u001B[38;5;45mNone\u001B[0m, \u001B[38;5;34m16\u001B[0m, \u001B[38;5;34m16\u001B[0m, \u001B[38;5;34m128\u001B[0m)    │       \u001B[38;5;34m204,928\u001B[0m │\n",
       "├─────────────────────────────────┼────────────────────────┼───────────────┤\n",
       "│ pool_2 (\u001B[38;5;33mMaxPooling2D\u001B[0m)           │ (\u001B[38;5;45mNone\u001B[0m, \u001B[38;5;34m8\u001B[0m, \u001B[38;5;34m8\u001B[0m, \u001B[38;5;34m128\u001B[0m)      │             \u001B[38;5;34m0\u001B[0m │\n",
       "├─────────────────────────────────┼────────────────────────┼───────────────┤\n",
       "│ flatten_1 (\u001B[38;5;33mFlatten\u001B[0m)             │ (\u001B[38;5;45mNone\u001B[0m, \u001B[38;5;34m8192\u001B[0m)           │             \u001B[38;5;34m0\u001B[0m │\n",
       "├─────────────────────────────────┼────────────────────────┼───────────────┤\n",
       "│ dense_1 (\u001B[38;5;33mDense\u001B[0m)                 │ (\u001B[38;5;45mNone\u001B[0m, \u001B[38;5;34m64\u001B[0m)             │       \u001B[38;5;34m524,352\u001B[0m │\n",
       "├─────────────────────────────────┼────────────────────────┼───────────────┤\n",
       "│ output (\u001B[38;5;33mDense\u001B[0m)                  │ (\u001B[38;5;45mNone\u001B[0m, \u001B[38;5;34m10\u001B[0m)             │           \u001B[38;5;34m650\u001B[0m │\n",
       "└─────────────────────────────────┴────────────────────────┴───────────────┘\n"
      ],
      "text/html": [
       "<pre style=\"white-space:pre;overflow-x:auto;line-height:normal;font-family:Menlo,'DejaVu Sans Mono',consolas,'Courier New',monospace\">┏━━━━━━━━━━━━━━━━━━━━━━━━━━━━━━━━━┳━━━━━━━━━━━━━━━━━━━━━━━━┳━━━━━━━━━━━━━━━┓\n",
       "┃<span style=\"font-weight: bold\"> Layer (type)                    </span>┃<span style=\"font-weight: bold\"> Output Shape           </span>┃<span style=\"font-weight: bold\">       Param # </span>┃\n",
       "┡━━━━━━━━━━━━━━━━━━━━━━━━━━━━━━━━━╇━━━━━━━━━━━━━━━━━━━━━━━━╇━━━━━━━━━━━━━━━┩\n",
       "│ conv_1 (<span style=\"color: #0087ff; text-decoration-color: #0087ff\">Conv2D</span>)                 │ (<span style=\"color: #00d7ff; text-decoration-color: #00d7ff\">None</span>, <span style=\"color: #00af00; text-decoration-color: #00af00\">32</span>, <span style=\"color: #00af00; text-decoration-color: #00af00\">32</span>, <span style=\"color: #00af00; text-decoration-color: #00af00\">16</span>)     │         <span style=\"color: #00af00; text-decoration-color: #00af00\">1,216</span> │\n",
       "├─────────────────────────────────┼────────────────────────┼───────────────┤\n",
       "│ conv_2 (<span style=\"color: #0087ff; text-decoration-color: #0087ff\">Conv2D</span>)                 │ (<span style=\"color: #00d7ff; text-decoration-color: #00d7ff\">None</span>, <span style=\"color: #00af00; text-decoration-color: #00af00\">32</span>, <span style=\"color: #00af00; text-decoration-color: #00af00\">32</span>, <span style=\"color: #00af00; text-decoration-color: #00af00\">32</span>)     │        <span style=\"color: #00af00; text-decoration-color: #00af00\">12,832</span> │\n",
       "├─────────────────────────────────┼────────────────────────┼───────────────┤\n",
       "│ pool_1 (<span style=\"color: #0087ff; text-decoration-color: #0087ff\">MaxPooling2D</span>)           │ (<span style=\"color: #00d7ff; text-decoration-color: #00d7ff\">None</span>, <span style=\"color: #00af00; text-decoration-color: #00af00\">16</span>, <span style=\"color: #00af00; text-decoration-color: #00af00\">16</span>, <span style=\"color: #00af00; text-decoration-color: #00af00\">32</span>)     │             <span style=\"color: #00af00; text-decoration-color: #00af00\">0</span> │\n",
       "├─────────────────────────────────┼────────────────────────┼───────────────┤\n",
       "│ conv_3 (<span style=\"color: #0087ff; text-decoration-color: #0087ff\">Conv2D</span>)                 │ (<span style=\"color: #00d7ff; text-decoration-color: #00d7ff\">None</span>, <span style=\"color: #00af00; text-decoration-color: #00af00\">16</span>, <span style=\"color: #00af00; text-decoration-color: #00af00\">16</span>, <span style=\"color: #00af00; text-decoration-color: #00af00\">64</span>)     │        <span style=\"color: #00af00; text-decoration-color: #00af00\">51,264</span> │\n",
       "├─────────────────────────────────┼────────────────────────┼───────────────┤\n",
       "│ conv_4 (<span style=\"color: #0087ff; text-decoration-color: #0087ff\">Conv2D</span>)                 │ (<span style=\"color: #00d7ff; text-decoration-color: #00d7ff\">None</span>, <span style=\"color: #00af00; text-decoration-color: #00af00\">16</span>, <span style=\"color: #00af00; text-decoration-color: #00af00\">16</span>, <span style=\"color: #00af00; text-decoration-color: #00af00\">128</span>)    │       <span style=\"color: #00af00; text-decoration-color: #00af00\">204,928</span> │\n",
       "├─────────────────────────────────┼────────────────────────┼───────────────┤\n",
       "│ pool_2 (<span style=\"color: #0087ff; text-decoration-color: #0087ff\">MaxPooling2D</span>)           │ (<span style=\"color: #00d7ff; text-decoration-color: #00d7ff\">None</span>, <span style=\"color: #00af00; text-decoration-color: #00af00\">8</span>, <span style=\"color: #00af00; text-decoration-color: #00af00\">8</span>, <span style=\"color: #00af00; text-decoration-color: #00af00\">128</span>)      │             <span style=\"color: #00af00; text-decoration-color: #00af00\">0</span> │\n",
       "├─────────────────────────────────┼────────────────────────┼───────────────┤\n",
       "│ flatten_1 (<span style=\"color: #0087ff; text-decoration-color: #0087ff\">Flatten</span>)             │ (<span style=\"color: #00d7ff; text-decoration-color: #00d7ff\">None</span>, <span style=\"color: #00af00; text-decoration-color: #00af00\">8192</span>)           │             <span style=\"color: #00af00; text-decoration-color: #00af00\">0</span> │\n",
       "├─────────────────────────────────┼────────────────────────┼───────────────┤\n",
       "│ dense_1 (<span style=\"color: #0087ff; text-decoration-color: #0087ff\">Dense</span>)                 │ (<span style=\"color: #00d7ff; text-decoration-color: #00d7ff\">None</span>, <span style=\"color: #00af00; text-decoration-color: #00af00\">64</span>)             │       <span style=\"color: #00af00; text-decoration-color: #00af00\">524,352</span> │\n",
       "├─────────────────────────────────┼────────────────────────┼───────────────┤\n",
       "│ output (<span style=\"color: #0087ff; text-decoration-color: #0087ff\">Dense</span>)                  │ (<span style=\"color: #00d7ff; text-decoration-color: #00d7ff\">None</span>, <span style=\"color: #00af00; text-decoration-color: #00af00\">10</span>)             │           <span style=\"color: #00af00; text-decoration-color: #00af00\">650</span> │\n",
       "└─────────────────────────────────┴────────────────────────┴───────────────┘\n",
       "</pre>\n"
      ]
     },
     "metadata": {},
     "output_type": "display_data"
    },
    {
     "data": {
      "text/plain": [
       "\u001B[1m Total params: \u001B[0m\u001B[38;5;34m795,242\u001B[0m (3.03 MB)\n"
      ],
      "text/html": [
       "<pre style=\"white-space:pre;overflow-x:auto;line-height:normal;font-family:Menlo,'DejaVu Sans Mono',consolas,'Courier New',monospace\"><span style=\"font-weight: bold\"> Total params: </span><span style=\"color: #00af00; text-decoration-color: #00af00\">795,242</span> (3.03 MB)\n",
       "</pre>\n"
      ]
     },
     "metadata": {},
     "output_type": "display_data"
    },
    {
     "data": {
      "text/plain": [
       "\u001B[1m Trainable params: \u001B[0m\u001B[38;5;34m795,242\u001B[0m (3.03 MB)\n"
      ],
      "text/html": [
       "<pre style=\"white-space:pre;overflow-x:auto;line-height:normal;font-family:Menlo,'DejaVu Sans Mono',consolas,'Courier New',monospace\"><span style=\"font-weight: bold\"> Trainable params: </span><span style=\"color: #00af00; text-decoration-color: #00af00\">795,242</span> (3.03 MB)\n",
       "</pre>\n"
      ]
     },
     "metadata": {},
     "output_type": "display_data"
    },
    {
     "data": {
      "text/plain": [
       "\u001B[1m Non-trainable params: \u001B[0m\u001B[38;5;34m0\u001B[0m (0.00 B)\n"
      ],
      "text/html": [
       "<pre style=\"white-space:pre;overflow-x:auto;line-height:normal;font-family:Menlo,'DejaVu Sans Mono',consolas,'Courier New',monospace\"><span style=\"font-weight: bold\"> Non-trainable params: </span><span style=\"color: #00af00; text-decoration-color: #00af00\">0</span> (0.00 B)\n",
       "</pre>\n"
      ]
     },
     "metadata": {},
     "output_type": "display_data"
    }
   ],
   "execution_count": 33
  },
  {
   "cell_type": "code",
   "metadata": {},
   "source": [
    "set_seed(12345)\n",
    "\n",
    "from tensorflow.keras.optimizers import Adam\n",
    "model_2.compile(optimizer=Adam(learning_rate=0.0001), loss=\"categorical_crossentropy\", metrics=[\"accuracy\"])\n",
    "run_hist_2 = model_2.fit(x_train_split, y_train_split, validation_data=(x_val_split, y_val_split), epochs=30, batch_size=32)"
   ],
   "outputs": [],
   "execution_count": null
  },
  {
   "cell_type": "code",
   "metadata": {},
   "source": [
    "plt.close('all')\n",
    "fig, ax = plt.subplots()\n",
    "ax.plot(run_hist_2.history[\"loss\"],'r', marker='.', label=\"Train\")\n",
    "ax.plot(run_hist_2.history[\"val_loss\"],'b', marker='.', label=\"Validation\")\n",
    "ax.legend()\n",
    "plt.title('Loss')\n",
    "plt.xlabel('Epoch')\n",
    "plt.ylabel('Loss')\n",
    "plt.show()"
   ],
   "outputs": [],
   "execution_count": null
  },
  {
   "metadata": {},
   "cell_type": "code",
   "source": [
    "plt.close('all')\n",
    "fig, ax = plt.subplots()\n",
    "ax.plot(run_hist_2.history[\"accuracy\"],'r', marker='.', label=\"Train\")\n",
    "ax.plot(run_hist_2.history[\"val_accuracy\"],'b', marker='.', label=\"Validation\")\n",
    "ax.legend()\n",
    "plt.title('Accuracy')\n",
    "plt.xlabel('Epoch')\n",
    "plt.ylabel('Accuracy')\n",
    "plt.show()"
   ],
   "outputs": [],
   "execution_count": null
  },
  {
   "metadata": {},
   "cell_type": "code",
   "source": [
    "print('Training Accuracy: {:.4f}'.format(run_hist_2.history[\"accuracy\"][-1]))\n",
    "print('Validation Accuracy: {:.4f}'.format(run_hist_2.history[\"val_accuracy\"][-1]))\n",
    "print('Training Loss: {:.4f}'.format(run_hist_2.history[\"loss\"][-1]))\n",
    "print('Validation Loss: {:.4f}'.format(run_hist_2.history[\"val_loss\"][-1]))"
   ],
   "outputs": [],
   "execution_count": null
  },
  {
   "metadata": {},
   "cell_type": "code",
   "source": [
    "plt.close('all')\n",
    "y_pred_2 = model_2.predict(x_test)\n",
    "y_pred_classes_2 = np.argmax(y_pred_2, axis=1)\n",
    "y_true_2 = np.argmax(y_test, axis=1)\n",
    "print(classification_report(y_true, y_pred_classes_2, target_names=class_names))\n",
    "cm_2 = confusion_matrix(y_true, y_pred_classes_2)\n",
    "disp_2 = ConfusionMatrixDisplay(confusion_matrix=cm_2, display_labels=class_names)\n",
    "disp_2.plot(cmap=plt.cm.Blues, values_format='d')\n",
    "plt.title('Confusion Matrix')\n",
    "plt.show()"
   ],
   "outputs": [],
   "execution_count": null
  },
  {
   "metadata": {},
   "cell_type": "code",
   "source": [
    "best_class = 'automobile'\n",
    "\n",
    "incorrect_indices = np.where(\n",
    "    (y_true_2 == class_names.index (best_class))\n",
    "    & (y_pred_classes_2 != class_names.index(best_class))\n",
    ")[0]\n",
    "\n",
    "for i in range(min(3, len(incorrect_indices))):\n",
    "    idx = incorrect_indices[i]\n",
    "    plt.figure(figsize=(5, 5), dpi=60)\n",
    "    plt.imshow(x_test[idx])\n",
    "    plt.title(f\"True: {class_names[y_true_2[idx]]}, Predicted: {class_names[y_pred_classes_2[idx]]}\")\n",
    "    plt.axis('off')\n",
    "    plt.show()"
   ],
   "outputs": [],
   "execution_count": null
  }
 ],
 "metadata": {
  "kernelspec": {
   "display_name": "dl_wsl_364",
   "language": "python",
   "name": "dl_wsl_364"
  },
  "language_info": {
   "codemirror_mode": {
    "name": "ipython",
    "version": 3
   },
   "file_extension": ".py",
   "mimetype": "text/x-python",
   "name": "python",
   "nbconvert_exporter": "python",
   "pygments_lexer": "ipython3",
   "version": "3.11.13"
  }
 },
 "nbformat": 4,
 "nbformat_minor": 1
}
