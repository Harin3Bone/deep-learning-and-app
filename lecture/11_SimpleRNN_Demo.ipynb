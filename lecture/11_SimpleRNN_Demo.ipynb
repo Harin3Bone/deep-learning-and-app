{
 "cells": [
  {
   "cell_type": "markdown",
   "metadata": {
    "id": "jsO1XI6Sop9n"
   },
   "source": [
    "### Experimenting with SimpleRNN from https://www.tensorflow.org/api_docs/python/tf/keras/layers/SimpleRNN"
   ]
  },
  {
   "cell_type": "code",
   "execution_count": 1,
   "metadata": {
    "colab": {
     "base_uri": "https://localhost:8080/"
    },
    "executionInfo": {
     "elapsed": 545,
     "status": "ok",
     "timestamp": 1695451606969,
     "user": {
      "displayName": "Chakrit WATCHAROPAS",
      "userId": "10640034624063521652"
     },
     "user_tz": -420
    },
    "id": "W0GMPq5jop9q",
    "outputId": "8bf41344-85fe-4013-f051-aa8f1ab12247"
   },
   "outputs": [
    {
     "data": {
      "text/plain": [
       "array([[0.19, 0.68, 0.08, 0.27, 0.95, 0.01, 0.27, 0.3 ],\n",
       "       [0.85, 0.32, 0.3 , 0.81, 0.23, 0.73, 0.16, 0.18],\n",
       "       [0.45, 0.73, 0.76, 0.28, 0.82, 0.57, 0.91, 0.25],\n",
       "       [0.93, 0.65, 0.81, 0.82, 0.38, 0.32, 0.86, 0.61],\n",
       "       [0.7 , 0.79, 0.65, 0.23, 0.27, 0.16, 0.07, 0.5 ],\n",
       "       [0.12, 0.14, 0.65, 0.76, 0.52, 0.69, 0.97, 0.73],\n",
       "       [0.46, 0.19, 0.88, 0.2 , 0.2 , 0.41, 0.61, 0.49],\n",
       "       [0.14, 0.42, 0.93, 0.19, 0.19, 0.38, 0.82, 0.58],\n",
       "       [0.88, 0.07, 0.71, 0.21, 0.96, 0.72, 0.48, 0.76],\n",
       "       [0.34, 0.89, 0.63, 0.21, 0.59, 0.16, 0.03, 0.55]], dtype=float32)"
      ]
     },
     "execution_count": 1,
     "metadata": {},
     "output_type": "execute_result"
    }
   ],
   "source": [
    "import numpy as np\n",
    "import tensorflow as tf\n",
    "\n",
    "inputs = np.random.random([32, 10, 8]).astype(np.float32)\n",
    "\n",
    "np.set_printoptions(precision=2)\n",
    "inputs[0]"
   ]
  },
  {
   "cell_type": "code",
   "execution_count": 2,
   "metadata": {},
   "outputs": [
    {
     "data": {
      "text/plain": [
       "(32, 10, 8)"
      ]
     },
     "execution_count": 2,
     "metadata": {},
     "output_type": "execute_result"
    }
   ],
   "source": [
    "inputs.shape"
   ]
  },
  {
   "cell_type": "code",
   "execution_count": 3,
   "metadata": {
    "colab": {
     "base_uri": "https://localhost:8080/"
    },
    "executionInfo": {
     "elapsed": 423,
     "status": "ok",
     "timestamp": 1695451607754,
     "user": {
      "displayName": "Chakrit WATCHAROPAS",
      "userId": "10640034624063521652"
     },
     "user_tz": -420
    },
    "id": "FEj-4Trqop9r",
    "outputId": "66d27523-25e3-4a9c-d520-abc02872771d"
   },
   "outputs": [
    {
     "name": "stdout",
     "output_type": "stream",
     "text": [
      "output.shape = (32, 4)\n",
      "whole_sequence_output.shape = (32, 10, 4)\n",
      "final_state.shape = (32, 4)\n"
     ]
    }
   ],
   "source": [
    "simple_rnn = tf.keras.layers.SimpleRNN(4)\n",
    "\n",
    "output = simple_rnn(inputs)  \n",
    "print('output.shape =', output.shape)\n",
    "# The output has shape `[32, 4]`.\n",
    "\n",
    "simple_rnn = tf.keras.layers.SimpleRNN(4, return_sequences=True, return_state=True)\n",
    "\n",
    "whole_sequence_output, final_state = simple_rnn(inputs)\n",
    "print('whole_sequence_output.shape =', whole_sequence_output.shape)\n",
    "print('final_state.shape =', final_state.shape)\n",
    "# whole_sequence_output has shape `[32, 10, 4]`.\n",
    "# final_state has shape `[32, 4]`."
   ]
  },
  {
   "cell_type": "code",
   "execution_count": null,
   "metadata": {
    "executionInfo": {
     "elapsed": 5,
     "status": "ok",
     "timestamp": 1695451607754,
     "user": {
      "displayName": "Chakrit WATCHAROPAS",
      "userId": "10640034624063521652"
     },
     "user_tz": -420
    },
    "id": "hp12SyeKop9s"
   },
   "outputs": [],
   "source": [
    "import numpy as np\n",
    "import pandas as pd\n",
    "import matplotlib.pyplot as plt\n",
    "import keras\n",
    "from keras.models import Sequential\n",
    "from keras.layers import Dense, SimpleRNN, LSTM, Dropout\n",
    "from IPython.display import display"
   ]
  },
  {
   "cell_type": "code",
   "execution_count": null,
   "metadata": {
    "colab": {
     "base_uri": "https://localhost:8080/"
    },
    "executionInfo": {
     "elapsed": 6,
     "status": "ok",
     "timestamp": 1695451607755,
     "user": {
      "displayName": "Chakrit WATCHAROPAS",
      "userId": "10640034624063521652"
     },
     "user_tz": -420
    },
    "id": "Dg1DIYgsop9s",
    "outputId": "1587f477-af63-491f-d05c-e3a32a99104b"
   },
   "outputs": [],
   "source": [
    "model = Sequential()\n",
    "model.add(SimpleRNN(units=10, input_shape=(None, 2), activation='relu'))\n",
    "model.summary()"
   ]
  },
  {
   "cell_type": "code",
   "execution_count": null,
   "metadata": {
    "colab": {
     "base_uri": "https://localhost:8080/",
     "height": 711
    },
    "executionInfo": {
     "elapsed": 895,
     "status": "ok",
     "timestamp": 1695451608646,
     "user": {
      "displayName": "Chakrit WATCHAROPAS",
      "userId": "10640034624063521652"
     },
     "user_tz": -420
    },
    "id": "aJe_r2M7op9t",
    "outputId": "607f65df-7a2c-4c56-9f9b-0dfb330f9d4d"
   },
   "outputs": [],
   "source": [
    "n_samples = 10000\n",
    "n_periods = 20\n",
    "phase_value = n_samples // n_periods\n",
    "\n",
    "noise_scale = 0.2\n",
    "t = np.arange(0, n_samples)\n",
    "x = np.sin(2*np.pi*t/phase_value) + noise_scale * (np.random.rand(n_samples)-0.5) # + np.sin(0.5*t/phase_value)\n",
    "df = pd.DataFrame(x)\n",
    "display(df.head())\n",
    "\n",
    "plt.subplots(figsize=(10, 6))\n",
    "plt.plot(df[:2000])\n",
    "plt.show()"
   ]
  },
  {
   "cell_type": "code",
   "execution_count": null,
   "metadata": {
    "executionInfo": {
     "elapsed": 4,
     "status": "ok",
     "timestamp": 1695451608646,
     "user": {
      "displayName": "Chakrit WATCHAROPAS",
      "userId": "10640034624063521652"
     },
     "user_tz": -420
    },
    "id": "1jo0Cr3Mop9t"
   },
   "outputs": [],
   "source": [
    "split_test_partition = int(0.8*n_samples)\n",
    "train, test = df.values[0:split_test_partition, :], df.values[split_test_partition:, :]"
   ]
  },
  {
   "cell_type": "markdown",
   "metadata": {
    "id": "zjhHTP8oop9t"
   },
   "source": [
    "#### Create a Sequence Data"
   ]
  },
  {
   "cell_type": "code",
   "execution_count": null,
   "metadata": {
    "executionInfo": {
     "elapsed": 4,
     "status": "ok",
     "timestamp": 1695451608646,
     "user": {
      "displayName": "Chakrit WATCHAROPAS",
      "userId": "10640034624063521652"
     },
     "user_tz": -420
    },
    "id": "SP-srGqsop9u"
   },
   "outputs": [],
   "source": [
    "window_size = 10\n",
    "\n",
    "def sequenceData(data, window_size):\n",
    "    X, y = [], []\n",
    "    for i in range(len(data)-window_size):\n",
    "        d = i + window_size\n",
    "        X.append(data[i:d, ])\n",
    "        y.append(data[d, ])\n",
    "    return np.array(X), np.array(y)\n",
    "\n",
    "X_train, y_train = sequenceData(train, window_size)\n",
    "X_test, y_test = sequenceData(test, window_size)"
   ]
  },
  {
   "cell_type": "code",
   "execution_count": null,
   "metadata": {
    "executionInfo": {
     "elapsed": 4,
     "status": "ok",
     "timestamp": 1695451608646,
     "user": {
      "displayName": "Chakrit WATCHAROPAS",
      "userId": "10640034624063521652"
     },
     "user_tz": -420
    },
    "id": "jjmvPyH7op9u"
   },
   "outputs": [],
   "source": [
    "X_train = X_train.reshape(-1, window_size, 1)\n",
    "X_test = X_test.reshape(-1, window_size, 1)"
   ]
  },
  {
   "cell_type": "code",
   "execution_count": null,
   "metadata": {
    "colab": {
     "base_uri": "https://localhost:8080/"
    },
    "executionInfo": {
     "elapsed": 13529,
     "status": "ok",
     "timestamp": 1695451622172,
     "user": {
      "displayName": "Chakrit WATCHAROPAS",
      "userId": "10640034624063521652"
     },
     "user_tz": -420
    },
    "id": "v-NVMTjfop9u",
    "outputId": "eaba397a-b7e2-47fa-e7fd-3a06126d6df4"
   },
   "outputs": [],
   "source": [
    "model = Sequential()\n",
    "model.add(SimpleRNN(units=16, input_shape=(None, 1), activation='tanh'))\n",
    "model.add(Dropout(0.1))\n",
    "model.add(Dense(8, activation='tanh'))\n",
    "model.add(Dense(1))\n",
    "\n",
    "lr_scheduler = tf.keras.optimizers.schedules.InverseTimeDecay(\n",
    "    0.001, decay_rate=1e-6, decay_steps=1, staircase=False)\n",
    "opt = tf.keras.optimizers.Adam(learning_rate=lr_scheduler)\n",
    "\n",
    "model.compile(loss='mean_squared_error', optimizer=opt)\n",
    "model.summary()\n",
    "\n",
    "model.fit(X_train, y_train, epochs=10, batch_size=32, validation_data=(X_test, y_test))"
   ]
  },
  {
   "cell_type": "code",
   "execution_count": null,
   "metadata": {
    "colab": {
     "base_uri": "https://localhost:8080/",
     "height": 369
    },
    "executionInfo": {
     "elapsed": 1705,
     "status": "ok",
     "timestamp": 1695451623874,
     "user": {
      "displayName": "Chakrit WATCHAROPAS",
      "userId": "10640034624063521652"
     },
     "user_tz": -420
    },
    "id": "OuG2ggYZop9v",
    "outputId": "0f0377a7-57ff-41b3-8e0e-697b4d878406"
   },
   "outputs": [],
   "source": [
    "y_pred = model.predict(X_test)\n",
    "\n",
    "fig, ax = plt.subplots(figsize=(20, 6))\n",
    "plt.plot(y_test, 'o', markersize=2, label='actual')\n",
    "plt.plot(y_pred, 'x', markersize=2, label='predict')\n",
    "plt.plot(y_test - y_pred, '.', markersize=2, label='difference', color='darkslateblue')\n",
    "ax.legend(loc='best')\n",
    "plt.show()"
   ]
  },
  {
   "cell_type": "code",
   "execution_count": null,
   "metadata": {
    "executionInfo": {
     "elapsed": 3,
     "status": "ok",
     "timestamp": 1695451623874,
     "user": {
      "displayName": "Chakrit WATCHAROPAS",
      "userId": "10640034624063521652"
     },
     "user_tz": -420
    },
    "id": "8k24SzDOop9v"
   },
   "outputs": [],
   "source": []
  }
 ],
 "metadata": {
  "colab": {
   "provenance": []
  },
  "kernelspec": {
   "display_name": "dl_env",
   "language": "python",
   "name": "python3"
  },
  "language_info": {
   "codemirror_mode": {
    "name": "ipython",
    "version": 3
   },
   "file_extension": ".py",
   "mimetype": "text/x-python",
   "name": "python",
   "nbconvert_exporter": "python",
   "pygments_lexer": "ipython3",
   "version": "3.10.18"
  }
 },
 "nbformat": 4,
 "nbformat_minor": 0
}
